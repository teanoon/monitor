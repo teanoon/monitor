{
 "cells": [
  {
   "cell_type": "code",
   "execution_count": 4,
   "metadata": {},
   "outputs": [
    {
     "name": "stdout",
     "output_type": "stream",
     "text": [
      "{\n",
      "  \"_links\" : {\n",
      "    \"classrooms\" : {\n",
      "      \"href\" : \"http://monitor-server-1:8080/classrooms{?page,size,sort}\",\n",
      "      \"templated\" : true\n",
      "    },\n",
      "    \"students\" : {\n",
      "      \"href\" : \"http://monitor-server-1:8080/students{?page,size,sort}\",\n",
      "      \"templated\" : true\n",
      "    },\n",
      "    \"profile\" : {\n",
      "      \"href\" : \"http://monitor-server-1:8080/profile\"\n",
      "    }\n",
      "  }\n",
      "}"
     ]
    }
   ],
   "source": [
    "!curl -s \"http://monitor-server-1:8080\" \\\n",
    "    -H \"Content-Type: application/json\""
   ]
  }
 ],
 "metadata": {
  "kernelspec": {
   "display_name": "Python 3",
   "language": "python",
   "name": "python3"
  },
  "language_info": {
   "codemirror_mode": {
    "name": "ipython",
    "version": 3
   },
   "file_extension": ".py",
   "mimetype": "text/x-python",
   "name": "python",
   "nbconvert_exporter": "python",
   "pygments_lexer": "ipython3",
   "version": "3.10.12"
  },
  "orig_nbformat": 4
 },
 "nbformat": 4,
 "nbformat_minor": 2
}
